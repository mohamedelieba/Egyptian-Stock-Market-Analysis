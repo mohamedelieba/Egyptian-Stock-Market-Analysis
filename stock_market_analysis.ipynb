{
 "cells": [
  {
   "cell_type": "code",
   "execution_count": 1,
   "metadata": {},
   "outputs": [],
   "source": [
    "import yfinance as yf\n",
    "import investpy\n",
    "import datetime as dt\n",
    "from pyspark.sql import SparkSession"
   ]
  },
  {
   "cell_type": "code",
   "execution_count": 3,
   "metadata": {},
   "outputs": [
    {
     "name": "stdout",
     "output_type": "stream",
     "text": [
      "['ACGC', 'AJWA', 'APSW', 'CCAP', 'COMI', 'EDBM', 'EGTS', 'EKHO', 'ELEC', 'ELKA', 'EPCO', 'ESRS', 'ETEL', 'HRHO', 'MOIL', 'MPRC', 'NCMP', 'NRPD', 'OCDI', 'GTHE', 'PHDC', 'PIOH', 'RTVC', 'SKPC', 'SVCE', 'SWDY', 'TMGH', 'UEGC', 'ODIN', 'ACRO', 'AFDI', 'AITG', 'AREH', 'ASCM', 'AUTO', 'CCRS', 'CEFM', 'COSG', 'CSAG', 'DAPH', 'DCRC', 'DTPP', 'ECAP', 'EFIC', 'EHDR', 'ELNA', 'ELSH', 'ENGC', 'ETRS', 'GGCC', 'GIHD', 'GMCI', 'GRCA', 'HDBK', 'HELI', 'ICID', 'IFAP', 'IRON', 'ISMA', 'KABO', 'LCSW', 'MENA', 'MICH', 'MNHD', 'MOSC', 'MPCO', 'NAHO', 'NCCW', 'NEDA', 'NINH', 'ORWE', 'POUL', 'PRCL', 'RAKT', 'RAYA', 'ROTO', 'RUBX', 'SAUD', 'SIMO', 'SMFR', 'SNFC', 'SPIN', 'SUGR', 'TRTO', 'UASG', 'UNIP', 'UNIT', 'ZEOT', 'ZMID', 'ABUK', 'MBSC', 'MCQE', 'AFMC', 'MFSC', 'AIVC', 'MHOT', 'AMOC', 'MILS', 'MOIN', 'AXPH', 'BIOC', 'CANA', 'CIEB', 'NIPH', 'CPCI', 'QNBA', 'DEIN', 'EAST', 'EDFM', 'PACH', 'EGAS', 'PHAR', 'EGBE', 'EGCH', 'PHTV', 'PRMH', 'SAIB', 'ESGI', 'SCEM', 'SCFM', 'SEIG', 'EXPA', 'FAIT', 'GSSC', 'TORA', 'UEFM', 'IRAX', 'WCDF', 'KZPC', 'AALR', 'ADCI', 'ADPC', 'AIH', 'ALCN', 'ALEX', 'AIFI', 'ALUM', 'AMER', 'AMES', 'AMIA', 'ANFI', 'APPC', 'ARVA', 'ATQA', 'BTFH', 'CAED', 'CERA', 'CIRA', 'DSCW', 'EALR', 'EASB', 'EBSC', 'EEII', 'EGAL', 'EGSA', 'EITP', 'EIUD', 'ELWA', 'EOSB', 'EPPK', 'FAITA', 'GOCO', 'GPPL', 'GTWL', 'IDRE', 'INFI', 'JUFO', 'KWIN', 'MEGM', 'MEPA', 'MIPH', 'MMAT', 'MPCI', 'NCIN', 'NDRL', 'NHPS', 'OBRI', 'ORHD', 'OIH', 'REAC', 'RREI', 'SBAG', 'SCTS', 'SDTI', 'SMPP', 'SPHT', 'SUCE', 'UNBE', 'NBKE', 'WATP', 'WKOL', 'ADIB', 'ARCC', 'IEEC', 'ORAS', 'EMFD', 'PORT', 'DOMT', 'CLHO', 'EFID', 'AGIN', 'HCFI', 'SIPC', 'SNFI', 'VODE', 'OLFI', 'MFPC', 'MTIE', 'RACC', 'INEG', 'ARPI', 'GETO', 'PSAD', 'UNFO', 'PTCC', 'MKIT', 'AMPI', 'ICFC', 'BIGP', 'UTOP', 'MOED', 'FNAR', 'ICMI', 'BSRF', 'VERT', 'DIFC', 'ADRI', 'MBEN', 'ISPH', 'ATLC', 'BINV', 'CICH', 'ACAMD', 'SRWA', 'SPMD', 'FWRY']\n"
     ]
    }
   ],
   "source": [
    "stocks = investpy.get_stocks_list(country='egypt')\n",
    "print(stocks)"
   ]
  },
  {
   "cell_type": "code",
   "execution_count": 14,
   "metadata": {},
   "outputs": [
    {
     "name": "stderr",
     "output_type": "stream",
     "text": [
      "[*********************100%***********************]  1 of 1 completed\n"
     ]
    }
   ],
   "source": [
    "# Define the time period\n",
    "start_date = '2020-01-01'\n",
    "end_date = dt.datetime.now().strftime('%Y-%m-%d')\n",
    "\n",
    "data = yf.download('rmda.CA', start=start_date, end=end_date)\n",
    "\n",
    "\n",
    "data.to_csv('rmda.csv')"
   ]
  },
  {
   "cell_type": "code",
   "execution_count": 10,
   "metadata": {},
   "outputs": [
    {
     "name": "stderr",
     "output_type": "stream",
     "text": [
      "Setting default log level to \"WARN\".\n",
      "To adjust logging level use sc.setLogLevel(newLevel). For SparkR, use setLogLevel(newLevel).\n",
      "25/03/01 15:33:21 WARN NativeCodeLoader: Unable to load native-hadoop library for your platform... using builtin-java classes where applicable\n"
     ]
    }
   ],
   "source": [
    "spark = SparkSession.builder\\\n",
    "    .master('local[*]')\\\n",
    "    .appName('Stocks')\\\n",
    "    .getOrCreate()"
   ]
  },
  {
   "cell_type": "code",
   "execution_count": 18,
   "metadata": {},
   "outputs": [],
   "source": [
    "df = spark\\\n",
    "    .read\\\n",
    "    .option('header', 'true')\\\n",
    "    .csv('rmda.csv')"
   ]
  },
  {
   "cell_type": "code",
   "execution_count": 20,
   "metadata": {},
   "outputs": [
    {
     "name": "stdout",
     "output_type": "stream",
     "text": [
      "+----------+------------------+------------------+------------------+------------------+-------+\n",
      "|     Price|             Close|              High|               Low|              Open| Volume|\n",
      "+----------+------------------+------------------+------------------+------------------+-------+\n",
      "|    Ticker|           RMDA.CA|           RMDA.CA|           RMDA.CA|           RMDA.CA|RMDA.CA|\n",
      "|      Date|              NULL|              NULL|              NULL|              NULL|   NULL|\n",
      "|2020-01-02|  2.19230580329895|2.2216015706438452|2.1825407781182062| 2.250898490993178| 571050|\n",
      "|2020-01-05| 2.094653367996216|2.1727761106212307| 2.055592573185961| 2.192305931524106|1053767|\n",
      "|2020-01-06| 2.070240020751953| 2.123949274231182| 2.001883459890071|2.0946532758605314| 818054|\n",
      "|2020-01-08| 2.172776222229004| 2.197189479665449|  2.11906696362846|2.0702402181546566|1373390|\n",
      "|2020-01-09|2.2460150718688965|2.2508985068973235| 2.221601586340988|2.1727759988905055|4635872|\n",
      "|2020-01-12|  2.27531099319458|2.2850769415078958|2.1971894023115772|2.2460152236627757|8900157|\n",
      "|2020-01-13|2.2460150718688965|2.2753108394207864|2.2460150718688965|2.2753108394207864|1940801|\n",
      "|2020-01-14|2.2069544792175293|2.2606635065673486|2.1971894530821916| 2.246015275561611|1593905|\n",
      "|2020-01-15| 2.231367588043213| 2.270428381790987| 2.202071819781711|2.2069543325248473|5692461|\n",
      "|2020-01-16| 2.309490203857422|2.3680819736683856|2.2557809470135104|2.2313676903755333|9836324|\n",
      "|2020-01-19|2.3387861251831055| 2.368082127289517|2.2948418914225686|2.3094903536776146| 723509|\n",
      "|2020-01-20|2.3290202617645264|2.3827292881467943|2.3143727228253903| 2.338785979526668|6157548|\n",
      "|2020-01-21| 2.368082046508789| 2.412025356366638| 2.285077017506677|2.3290203273645256|2456630|\n",
      "|2020-01-22|2.3631985187530518|2.3924942881157927| 2.343668467046365| 2.368081954083337|9708921|\n",
      "|2020-01-23|2.3876118659973145|2.4120253539628065|2.3680820441487516|2.3631986086327346|1942739|\n",
      "|2020-01-26| 2.358315944671631| 2.392494226074748| 2.304606689664681|2.3876117132746875|1073994|\n",
      "|2020-01-27|2.3046066761016846|2.3534334180212197| 2.294841650559032|2.3583159307925463|1677801|\n",
      "|2020-01-28|2.2850770950317383|2.3046069175623467|2.2704286327794114|2.3046069175623467|2148976|\n",
      "+----------+------------------+------------------+------------------+------------------+-------+\n",
      "only showing top 20 rows\n",
      "\n"
     ]
    }
   ],
   "source": [
    "df.show()"
   ]
  }
 ],
 "metadata": {
  "kernelspec": {
   "display_name": "base",
   "language": "python",
   "name": "python3"
  },
  "language_info": {
   "codemirror_mode": {
    "name": "ipython",
    "version": 3
   },
   "file_extension": ".py",
   "mimetype": "text/x-python",
   "name": "python",
   "nbconvert_exporter": "python",
   "pygments_lexer": "ipython3",
   "version": "3.12.2"
  }
 },
 "nbformat": 4,
 "nbformat_minor": 2
}
